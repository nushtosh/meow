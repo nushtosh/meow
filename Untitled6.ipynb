{
 "cells": [
  {
   "cell_type": "code",
   "execution_count": 135,
   "id": "49f6a7b1-2651-4880-acd4-75d1d7684520",
   "metadata": {},
   "outputs": [],
   "source": [
    "import numpy as np\n",
    "import pandas as pd\n",
    "from scipy.linalg import solve\n",
    "import matplotlib.pyplot as plt\n",
    "from matplotlib import style  "
   ]
  },
  {
   "cell_type": "code",
   "execution_count": 136,
   "id": "33d596f9-27aa-4862-9e8d-953727a1777a",
   "metadata": {},
   "outputs": [],
   "source": [
    "data = {'n': [], 'cond(A)': [], 'cond(B)': [], '||A-B^2||': []}\n",
    "df = pd.DataFrame(data)\n",
    "df1= pd.DataFrame(data)"
   ]
  },
  {
   "cell_type": "code",
   "execution_count": 137,
   "id": "c173892b-f4aa-432f-aebc-0b348d466c13",
   "metadata": {},
   "outputs": [
    {
     "data": {
      "text/html": [
       "<div>\n",
       "<style scoped>\n",
       "    .dataframe tbody tr th:only-of-type {\n",
       "        vertical-align: middle;\n",
       "    }\n",
       "\n",
       "    .dataframe tbody tr th {\n",
       "        vertical-align: top;\n",
       "    }\n",
       "\n",
       "    .dataframe thead th {\n",
       "        text-align: right;\n",
       "    }\n",
       "</style>\n",
       "<table border=\"1\" class=\"dataframe\">\n",
       "  <thead>\n",
       "    <tr style=\"text-align: right;\">\n",
       "      <th></th>\n",
       "      <th>n</th>\n",
       "      <th>cond(A)</th>\n",
       "      <th>cond(B)</th>\n",
       "      <th>||A-B^2||</th>\n",
       "    </tr>\n",
       "  </thead>\n",
       "  <tbody>\n",
       "  </tbody>\n",
       "</table>\n",
       "</div>"
      ],
      "text/plain": [
       "Empty DataFrame\n",
       "Columns: [n, cond(A), cond(B), ||A-B^2||]\n",
       "Index: []"
      ]
     },
     "execution_count": 137,
     "metadata": {},
     "output_type": "execute_result"
    }
   ],
   "source": [
    "df"
   ]
  },
  {
   "cell_type": "code",
   "execution_count": 138,
   "id": "df2c4932-29c9-4e30-b2a5-8d800915c394",
   "metadata": {},
   "outputs": [],
   "source": [
    "# for number in range(1,6):\n",
    "#     a = [[0 for j in range(number)] for i in range(number)]\n",
    "#     for i in range (number):\n",
    "#         for j in range(number):\n",
    "#             a[i][j]=pow(i+1,1/(number-j)) \n",
    "#     #sqrt a = b        \n",
    "#     sch, sv = np.linalg.eig(a)\n",
    "#     sqsch=np.sqrt(sch)\n",
    "#     sqsch=np.diag(np.full(number,sqsch))\n",
    "#     sv_1=np.linalg.inv(sv)\n",
    "#     b=sv.dot(sqsch).dot(sv_1)\n",
    "    \n",
    "#     #||a-b^2||\n",
    "#     b2=b.dot(b)\n",
    "#     ras=a-b2\n",
    "#     normm=np.linalg.norm(ras, ord=1)\n",
    "    \n",
    "#     new_row = {'n':number, 'cond(A)':np.linalg.cond(a, p=None), 'cond(B)':np.linalg.cond(b, p=None), '||A-B^2||':normm}\n",
    "#     df=df.append(new_row,ignore_index=True)   "
   ]
  },
  {
   "cell_type": "code",
   "execution_count": 139,
   "id": "f9cd7ff0-0e71-4a58-80d4-6d9159a76104",
   "metadata": {},
   "outputs": [
    {
     "data": {
      "text/html": [
       "<div>\n",
       "<style scoped>\n",
       "    .dataframe tbody tr th:only-of-type {\n",
       "        vertical-align: middle;\n",
       "    }\n",
       "\n",
       "    .dataframe tbody tr th {\n",
       "        vertical-align: top;\n",
       "    }\n",
       "\n",
       "    .dataframe thead th {\n",
       "        text-align: right;\n",
       "    }\n",
       "</style>\n",
       "<table border=\"1\" class=\"dataframe\">\n",
       "  <thead>\n",
       "    <tr style=\"text-align: right;\">\n",
       "      <th></th>\n",
       "      <th>n</th>\n",
       "      <th>cond(A)</th>\n",
       "      <th>cond(B)</th>\n",
       "      <th>||A-B^2||</th>\n",
       "    </tr>\n",
       "  </thead>\n",
       "  <tbody>\n",
       "  </tbody>\n",
       "</table>\n",
       "</div>"
      ],
      "text/plain": [
       "Empty DataFrame\n",
       "Columns: [n, cond(A), cond(B), ||A-B^2||]\n",
       "Index: []"
      ]
     },
     "execution_count": 139,
     "metadata": {},
     "output_type": "execute_result"
    }
   ],
   "source": [
    "df"
   ]
  },
  {
   "cell_type": "code",
   "execution_count": 140,
   "id": "d6c93407-48ab-48e1-9e1a-a049648fb3fa",
   "metadata": {},
   "outputs": [],
   "source": [
    "for number in range(1,6):\n",
    "    a = [[0 for j in range(number)] for i in range(number)]\n",
    "    for i in range (number):\n",
    "        for j in range(number):\n",
    "            a[i][j]=pow(i+1,1/(number-j)) \n",
    "    #sqrt a = b        \n",
    "    b=a\n",
    "    for k in range(number+1):\n",
    "        b_1=np.linalg.inv(b)\n",
    "        b=(1/2)*(b+b_1.dot(a))\n",
    "    \n",
    "    #||a-b^2||\n",
    "    b2=b.dot(b)\n",
    "    ras=a-b2\n",
    "    normm=np.linalg.norm(ras, ord=1)\n",
    "    \n",
    "    new_row = {'n':number, 'cond(A)':np.linalg.cond(a, p=None), 'cond(B)':np.linalg.cond(b, p=None), '||A-B^2||':normm}\n",
    "    df1=df1.append(new_row,ignore_index=True)"
   ]
  },
  {
   "cell_type": "code",
   "execution_count": 141,
   "id": "2d0327e3-022e-4d8d-bd00-85846d9a895a",
   "metadata": {},
   "outputs": [
    {
     "data": {
      "text/html": [
       "<div>\n",
       "<style scoped>\n",
       "    .dataframe tbody tr th:only-of-type {\n",
       "        vertical-align: middle;\n",
       "    }\n",
       "\n",
       "    .dataframe tbody tr th {\n",
       "        vertical-align: top;\n",
       "    }\n",
       "\n",
       "    .dataframe thead th {\n",
       "        text-align: right;\n",
       "    }\n",
       "</style>\n",
       "<table border=\"1\" class=\"dataframe\">\n",
       "  <thead>\n",
       "    <tr style=\"text-align: right;\">\n",
       "      <th></th>\n",
       "      <th>n</th>\n",
       "      <th>cond(A)</th>\n",
       "      <th>cond(B)</th>\n",
       "      <th>||A-B^2||</th>\n",
       "    </tr>\n",
       "  </thead>\n",
       "  <tbody>\n",
       "    <tr>\n",
       "      <th>0</th>\n",
       "      <td>1.0</td>\n",
       "      <td>1.000000e+00</td>\n",
       "      <td>1.000000</td>\n",
       "      <td>0.000000</td>\n",
       "    </tr>\n",
       "    <tr>\n",
       "      <th>1</th>\n",
       "      <td>2.0</td>\n",
       "      <td>1.358323e+01</td>\n",
       "      <td>3.696218</td>\n",
       "      <td>0.000336</td>\n",
       "    </tr>\n",
       "    <tr>\n",
       "      <th>2</th>\n",
       "      <td>3.0</td>\n",
       "      <td>4.852051e+02</td>\n",
       "      <td>20.779044</td>\n",
       "      <td>0.002139</td>\n",
       "    </tr>\n",
       "    <tr>\n",
       "      <th>3</th>\n",
       "      <td>4.0</td>\n",
       "      <td>4.065311e+04</td>\n",
       "      <td>94.019946</td>\n",
       "      <td>0.001349</td>\n",
       "    </tr>\n",
       "    <tr>\n",
       "      <th>4</th>\n",
       "      <td>5.0</td>\n",
       "      <td>6.231667e+06</td>\n",
       "      <td>228.438662</td>\n",
       "      <td>0.000386</td>\n",
       "    </tr>\n",
       "  </tbody>\n",
       "</table>\n",
       "</div>"
      ],
      "text/plain": [
       "     n       cond(A)     cond(B)  ||A-B^2||\n",
       "0  1.0  1.000000e+00    1.000000   0.000000\n",
       "1  2.0  1.358323e+01    3.696218   0.000336\n",
       "2  3.0  4.852051e+02   20.779044   0.002139\n",
       "3  4.0  4.065311e+04   94.019946   0.001349\n",
       "4  5.0  6.231667e+06  228.438662   0.000386"
      ]
     },
     "execution_count": 141,
     "metadata": {},
     "output_type": "execute_result"
    }
   ],
   "source": [
    "df1"
   ]
  },
  {
   "cell_type": "code",
   "execution_count": 142,
   "id": "5b44e32a-0eb2-4414-8b76-1f9af522e62a",
   "metadata": {},
   "outputs": [],
   "source": [
    "#u\n",
    "for number in range(0,len(a)+1):\n",
    "    z0 = [1 for j in range(number)]\n",
    "a = np.array(a, dtype=float)\n",
    "u=a.dot(z0)"
   ]
  },
  {
   "cell_type": "code",
   "execution_count": 143,
   "id": "8660a7ec-4dfd-40c9-8653-06e01def5171",
   "metadata": {},
   "outputs": [
    {
     "data": {
      "text/html": [
       "<div>\n",
       "<style scoped>\n",
       "    .dataframe tbody tr th:only-of-type {\n",
       "        vertical-align: middle;\n",
       "    }\n",
       "\n",
       "    .dataframe tbody tr th {\n",
       "        vertical-align: top;\n",
       "    }\n",
       "\n",
       "    .dataframe thead th {\n",
       "        text-align: right;\n",
       "    }\n",
       "</style>\n",
       "<table border=\"1\" class=\"dataframe\">\n",
       "  <thead>\n",
       "    <tr style=\"text-align: right;\">\n",
       "      <th></th>\n",
       "      <th>0</th>\n",
       "      <th>1</th>\n",
       "      <th>2</th>\n",
       "      <th>3</th>\n",
       "      <th>4</th>\n",
       "    </tr>\n",
       "  </thead>\n",
       "  <tbody>\n",
       "    <tr>\n",
       "      <th>0</th>\n",
       "      <td>1.000000</td>\n",
       "      <td>1.000000</td>\n",
       "      <td>1.000000</td>\n",
       "      <td>1.000000</td>\n",
       "      <td>1.0</td>\n",
       "    </tr>\n",
       "    <tr>\n",
       "      <th>1</th>\n",
       "      <td>1.148698</td>\n",
       "      <td>1.189207</td>\n",
       "      <td>1.259921</td>\n",
       "      <td>1.414214</td>\n",
       "      <td>2.0</td>\n",
       "    </tr>\n",
       "    <tr>\n",
       "      <th>2</th>\n",
       "      <td>1.245731</td>\n",
       "      <td>1.316074</td>\n",
       "      <td>1.442250</td>\n",
       "      <td>1.732051</td>\n",
       "      <td>3.0</td>\n",
       "    </tr>\n",
       "    <tr>\n",
       "      <th>3</th>\n",
       "      <td>1.319508</td>\n",
       "      <td>1.414214</td>\n",
       "      <td>1.587401</td>\n",
       "      <td>2.000000</td>\n",
       "      <td>4.0</td>\n",
       "    </tr>\n",
       "    <tr>\n",
       "      <th>4</th>\n",
       "      <td>1.379730</td>\n",
       "      <td>1.495349</td>\n",
       "      <td>1.709976</td>\n",
       "      <td>2.236068</td>\n",
       "      <td>5.0</td>\n",
       "    </tr>\n",
       "  </tbody>\n",
       "</table>\n",
       "</div>"
      ],
      "text/plain": [
       "          0         1         2         3    4\n",
       "0  1.000000  1.000000  1.000000  1.000000  1.0\n",
       "1  1.148698  1.189207  1.259921  1.414214  2.0\n",
       "2  1.245731  1.316074  1.442250  1.732051  3.0\n",
       "3  1.319508  1.414214  1.587401  2.000000  4.0\n",
       "4  1.379730  1.495349  1.709976  2.236068  5.0"
      ]
     },
     "execution_count": 143,
     "metadata": {},
     "output_type": "execute_result"
    }
   ],
   "source": [
    "dfa=pd.DataFrame(a)\n",
    "dfa"
   ]
  },
  {
   "cell_type": "code",
   "execution_count": 144,
   "id": "02f96137-ad42-4d47-ba68-87721330f65e",
   "metadata": {},
   "outputs": [
    {
     "name": "stdout",
     "output_type": "stream",
     "text": [
      "alpha = 0.001\n",
      "z1\n",
      "          0\n",
      "0  0.972556\n",
      "1  1.007760\n",
      "2  1.013178\n",
      "3  1.007805\n",
      "4  0.997255\n",
      "\n",
      "z2\n",
      "          0\n",
      "0  0.992176\n",
      "1  1.016427\n",
      "2  0.986033\n",
      "3  1.004613\n",
      "4  0.999760\n",
      "\n",
      "\n"
     ]
    },
    {
     "data": {
      "image/png": "[encoded data removed]",
      "text/plain": [
       "<Figure size 432x288 with 1 Axes>"
      ]
     },
     "metadata": {},
     "output_type": "display_data"
    },
    {
     "name": "stdout",
     "output_type": "stream",
     "text": [
      "alpha = 0.0001\n",
      "z1\n",
      "          0\n",
      "0  0.993438\n",
      "1  1.003830\n",
      "2  1.002523\n",
      "3  1.000383\n",
      "4  0.999630\n",
      "\n",
      "z2\n",
      "          0\n",
      "0  0.973807\n",
      "1  1.064561\n",
      "2  0.948884\n",
      "3  1.013163\n",
      "4  0.999494\n",
      "\n",
      "\n"
     ]
    },
    {
     "data": {
      "image/png": "[encoded data removed]",
      "text/plain": [
       "<Figure size 432x288 with 1 Axes>"
      ]
     },
     "metadata": {},
     "output_type": "display_data"
    },
    {
     "name": "stdout",
     "output_type": "stream",
     "text": [
      "alpha = 1e-05\n",
      "z1\n",
      "          0\n",
      "0  0.996807\n",
      "1  1.003110\n",
      "2  1.000810\n",
      "3  0.999235\n",
      "4  1.000016\n",
      "\n",
      "z2\n",
      "          0\n",
      "0  0.961764\n",
      "1  1.090565\n",
      "2  0.931566\n",
      "3  1.016712\n",
      "4  0.999394\n",
      "\n",
      "\n"
     ]
    },
    {
     "data": {
      "image/png": "[encoded data removed]",
      "text/plain": [
       "<Figure size 432x288 with 1 Axes>"
      ]
     },
     "metadata": {},
     "output_type": "display_data"
    }
   ],
   "source": [
    "for number in range(3,6):\n",
    "#16\n",
    "#a*a+alphaE\n",
    "    acon=np.matrix.conjugate(a)\n",
    "    e=np.diag(np.full(len(a),1))\n",
    "    alpha=10**(-(number))\n",
    "    lp=a.dot(acon)+alpha*e\n",
    "\n",
    "#a*u\n",
    "    rp=acon.dot(u)\n",
    "\n",
    "#\n",
    "    z1=solve(lp,rp)\n",
    "\n",
    "\n",
    "#20\n",
    "#b*b+alpahaE\n",
    "    bcon=np.matrix.conjugate(b)\n",
    "    e=np.diag(np.full(len(b),1))\n",
    "    lp=b.dot(bcon)+alpha*e\n",
    "\n",
    "#b*(b_1u)\n",
    "    b_1=np.linalg.inv(b)\n",
    "    b_1u=b_1.dot(u)\n",
    "    rp=bcon.dot(b_1u)\n",
    "\n",
    "#\n",
    "    z2=solve(lp,rp)\n",
    "    \n",
    "#\n",
    "    print('alpha =',alpha)\n",
    "    print('z1')\n",
    "    dfz1=pd.DataFrame(z1)\n",
    "    dfz2=pd.DataFrame(z2)\n",
    "    print(dfz1)\n",
    "    print()\n",
    "    print('z2')\n",
    "    print(dfz2)\n",
    "    print()\n",
    "    print()\n",
    "    \n",
    "    style.use('ggplot')   \n",
    "    for k in range(0,len(a)+1):\n",
    "        x = [j for j in range(k)]   \n",
    "    y=z1  \n",
    "\n",
    "    x2 = x  \n",
    "    y2 = z2 \n",
    "    \n",
    "    x3 = x  \n",
    "    for i in range(0,len(a)+1):\n",
    "        y3 = [1 for j in range(i)]\n",
    "\n",
    "    plt.plot(x, y, 'r', label='line one', linewidth=3) \n",
    "    plt.scatter(x, y, color='k') \n",
    "    plt.plot(x2, y2, 'b', label='line two', linewidth=3)\n",
    "    plt.scatter(x2, y2, color='k')\n",
    "    plt.plot(x3, y3, 'k', label='line three', linewidth=3)\n",
    "    plt.title('')     \n",
    "    plt.ylabel('Y axis')   \n",
    "    plt.xlabel('X axis')   \n",
    " \n",
    "    plt.show() "
   ]
  },
  {
   "cell_type": "code",
   "execution_count": 100,
   "id": "c15170b6-1692-4917-b263-b7dd9163b7c2",
   "metadata": {},
   "outputs": [
    {
     "data": {
      "image/png": "[encoded data removed]",
      "text/plain": [
       "<Figure size 432x288 with 1 Axes>"
      ]
     },
     "metadata": {},
     "output_type": "display_data"
    }
   ],
   "source": [
    "style.use('ggplot')   \n",
    "for number in range(0,len(a)+1):\n",
    "    x = [j for j in range(number)]   \n",
    "y=z  \n",
    "\n",
    "x2 = x  \n",
    "y2 = z1 \n",
    "\n",
    " \n",
    "\n",
    "plt.plot(x, y, 'b', label='line one', linewidth=3) \n",
    "plt.scatter(x, y, color='k') \n",
    "plt.plot(x2, y2, 'r', label='line two', linewidth=3)\n",
    "plt.scatter(x2, y2, color='k')\n",
    "plt.title('')     \n",
    "plt.ylabel('Y axis')   \n",
    "plt.xlabel('X axis')   \n",
    " \n",
    "plt.show() "
   ]
  },
  {
   "cell_type": "code",
   "execution_count": null,
   "id": "6e2cb94f-f80c-4fc5-a0f1-5c72dc2b4afa",
   "metadata": {},
   "outputs": [],
   "source": []
  }
 ],
 "metadata": {
  "kernelspec": {
   "display_name": "Python 3",
   "language": "python",
   "name": "python3"
  },
  "language_info": {
   "codemirror_mode": {
    "name": "ipython",
    "version": 3
   },
   "file_extension": ".py",
   "mimetype": "text/x-python",
   "name": "python",
   "nbconvert_exporter": "python",
   "pygments_lexer": "ipython3",
   "version": "3.8.8"
  }
 },
 "nbformat": 4,
 "nbformat_minor": 5
}
